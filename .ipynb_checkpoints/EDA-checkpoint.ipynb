{
 "cells": [
  {
   "cell_type": "markdown",
   "id": "6a5b26be",
   "metadata": {},
   "source": [
    "## Automobile Price Prediction \n",
    "\n",
    "### Workflow:\n",
    "<ul>\n",
    "    <li> Loading data </li>\n",
    "    <li> Preprocessing data </li>\n",
    "    <li> Exploring individual variables </li>\n",
    "    <li> Multivariate analysis </li>\n",
    "    <li> Modelling: Linear Regression </li>\n",
    "    <li> Evaluate and refine model predictions </li>\n",
    "</ul>\n",
    "\n",
    "#### Imports"
   ]
  },
  {
   "cell_type": "code",
   "execution_count": 1,
   "id": "c891570a",
   "metadata": {},
   "outputs": [],
   "source": [
    "import pandas as pd \n",
    "import seaborn as sns \n",
    "import matplotlib.pyplot as plt \n",
    "import numpy as np \n",
    "\n",
    "# set the default style \n",
    "plt.style.use('ggplot')\n",
    "blue= '#00688B'\n",
    "\n",
    "# set default figure size\n",
    "plt.rcParams['figure.figsize'] = (10, 8)"
   ]
  },
  {
   "cell_type": "markdown",
   "id": "0e9d341b",
   "metadata": {},
   "source": [
    "### 0. Loading data"
   ]
  },
  {
   "cell_type": "code",
   "execution_count": 2,
   "id": "08bcec0d",
   "metadata": {
    "scrolled": true
   },
   "outputs": [
    {
     "data": {
      "text/html": [
       "<div>\n",
       "<style scoped>\n",
       "    .dataframe tbody tr th:only-of-type {\n",
       "        vertical-align: middle;\n",
       "    }\n",
       "\n",
       "    .dataframe tbody tr th {\n",
       "        vertical-align: top;\n",
       "    }\n",
       "\n",
       "    .dataframe thead th {\n",
       "        text-align: right;\n",
       "    }\n",
       "</style>\n",
       "<table border=\"1\" class=\"dataframe\">\n",
       "  <thead>\n",
       "    <tr style=\"text-align: right;\">\n",
       "      <th></th>\n",
       "      <th>dateCrawled</th>\n",
       "      <th>name</th>\n",
       "      <th>seller</th>\n",
       "      <th>offerType</th>\n",
       "      <th>price</th>\n",
       "      <th>abtest</th>\n",
       "      <th>vehicleType</th>\n",
       "      <th>yearOfRegistration</th>\n",
       "      <th>gearbox</th>\n",
       "      <th>powerPS</th>\n",
       "      <th>model</th>\n",
       "      <th>odometer</th>\n",
       "      <th>monthOfRegistration</th>\n",
       "      <th>fuelType</th>\n",
       "      <th>brand</th>\n",
       "      <th>notRepairedDamage</th>\n",
       "      <th>dateCreated</th>\n",
       "      <th>nrOfPictures</th>\n",
       "      <th>postalCode</th>\n",
       "      <th>lastSeen</th>\n",
       "    </tr>\n",
       "  </thead>\n",
       "  <tbody>\n",
       "    <tr>\n",
       "      <th>0</th>\n",
       "      <td>2016-03-26 17:47:46</td>\n",
       "      <td>Peugeot_807_160_NAVTECH_ON_BOARD</td>\n",
       "      <td>privat</td>\n",
       "      <td>Angebot</td>\n",
       "      <td>$5,000</td>\n",
       "      <td>control</td>\n",
       "      <td>bus</td>\n",
       "      <td>2004</td>\n",
       "      <td>manuell</td>\n",
       "      <td>158</td>\n",
       "      <td>andere</td>\n",
       "      <td>150,000km</td>\n",
       "      <td>3</td>\n",
       "      <td>lpg</td>\n",
       "      <td>peugeot</td>\n",
       "      <td>nein</td>\n",
       "      <td>2016-03-26 00:00:00</td>\n",
       "      <td>0</td>\n",
       "      <td>79588</td>\n",
       "      <td>2016-04-06 06:45:54</td>\n",
       "    </tr>\n",
       "    <tr>\n",
       "      <th>1</th>\n",
       "      <td>2016-04-04 13:38:56</td>\n",
       "      <td>BMW_740i_4_4_Liter_HAMANN_UMBAU_Mega_Optik</td>\n",
       "      <td>privat</td>\n",
       "      <td>Angebot</td>\n",
       "      <td>$8,500</td>\n",
       "      <td>control</td>\n",
       "      <td>limousine</td>\n",
       "      <td>1997</td>\n",
       "      <td>automatik</td>\n",
       "      <td>286</td>\n",
       "      <td>7er</td>\n",
       "      <td>150,000km</td>\n",
       "      <td>6</td>\n",
       "      <td>benzin</td>\n",
       "      <td>bmw</td>\n",
       "      <td>nein</td>\n",
       "      <td>2016-04-04 00:00:00</td>\n",
       "      <td>0</td>\n",
       "      <td>71034</td>\n",
       "      <td>2016-04-06 14:45:08</td>\n",
       "    </tr>\n",
       "    <tr>\n",
       "      <th>2</th>\n",
       "      <td>2016-03-26 18:57:24</td>\n",
       "      <td>Volkswagen_Golf_1.6_United</td>\n",
       "      <td>privat</td>\n",
       "      <td>Angebot</td>\n",
       "      <td>$8,990</td>\n",
       "      <td>test</td>\n",
       "      <td>limousine</td>\n",
       "      <td>2009</td>\n",
       "      <td>manuell</td>\n",
       "      <td>102</td>\n",
       "      <td>golf</td>\n",
       "      <td>70,000km</td>\n",
       "      <td>7</td>\n",
       "      <td>benzin</td>\n",
       "      <td>volkswagen</td>\n",
       "      <td>nein</td>\n",
       "      <td>2016-03-26 00:00:00</td>\n",
       "      <td>0</td>\n",
       "      <td>35394</td>\n",
       "      <td>2016-04-06 20:15:37</td>\n",
       "    </tr>\n",
       "    <tr>\n",
       "      <th>3</th>\n",
       "      <td>2016-03-12 16:58:10</td>\n",
       "      <td>Smart_smart_fortwo_coupe_softouch/F1/Klima/Pan...</td>\n",
       "      <td>privat</td>\n",
       "      <td>Angebot</td>\n",
       "      <td>$4,350</td>\n",
       "      <td>control</td>\n",
       "      <td>kleinwagen</td>\n",
       "      <td>2007</td>\n",
       "      <td>automatik</td>\n",
       "      <td>71</td>\n",
       "      <td>fortwo</td>\n",
       "      <td>70,000km</td>\n",
       "      <td>6</td>\n",
       "      <td>benzin</td>\n",
       "      <td>smart</td>\n",
       "      <td>nein</td>\n",
       "      <td>2016-03-12 00:00:00</td>\n",
       "      <td>0</td>\n",
       "      <td>33729</td>\n",
       "      <td>2016-03-15 03:16:28</td>\n",
       "    </tr>\n",
       "    <tr>\n",
       "      <th>4</th>\n",
       "      <td>2016-04-01 14:38:50</td>\n",
       "      <td>Ford_Focus_1_6_Benzin_TÜV_neu_ist_sehr_gepfleg...</td>\n",
       "      <td>privat</td>\n",
       "      <td>Angebot</td>\n",
       "      <td>$1,350</td>\n",
       "      <td>test</td>\n",
       "      <td>kombi</td>\n",
       "      <td>2003</td>\n",
       "      <td>manuell</td>\n",
       "      <td>0</td>\n",
       "      <td>focus</td>\n",
       "      <td>150,000km</td>\n",
       "      <td>7</td>\n",
       "      <td>benzin</td>\n",
       "      <td>ford</td>\n",
       "      <td>nein</td>\n",
       "      <td>2016-04-01 00:00:00</td>\n",
       "      <td>0</td>\n",
       "      <td>39218</td>\n",
       "      <td>2016-04-01 14:38:50</td>\n",
       "    </tr>\n",
       "  </tbody>\n",
       "</table>\n",
       "</div>"
      ],
      "text/plain": [
       "           dateCrawled                                               name  \\\n",
       "0  2016-03-26 17:47:46                   Peugeot_807_160_NAVTECH_ON_BOARD   \n",
       "1  2016-04-04 13:38:56         BMW_740i_4_4_Liter_HAMANN_UMBAU_Mega_Optik   \n",
       "2  2016-03-26 18:57:24                         Volkswagen_Golf_1.6_United   \n",
       "3  2016-03-12 16:58:10  Smart_smart_fortwo_coupe_softouch/F1/Klima/Pan...   \n",
       "4  2016-04-01 14:38:50  Ford_Focus_1_6_Benzin_TÜV_neu_ist_sehr_gepfleg...   \n",
       "\n",
       "   seller offerType   price   abtest vehicleType  yearOfRegistration  \\\n",
       "0  privat   Angebot  $5,000  control         bus                2004   \n",
       "1  privat   Angebot  $8,500  control   limousine                1997   \n",
       "2  privat   Angebot  $8,990     test   limousine                2009   \n",
       "3  privat   Angebot  $4,350  control  kleinwagen                2007   \n",
       "4  privat   Angebot  $1,350     test       kombi                2003   \n",
       "\n",
       "     gearbox  powerPS   model   odometer  monthOfRegistration fuelType  \\\n",
       "0    manuell      158  andere  150,000km                    3      lpg   \n",
       "1  automatik      286     7er  150,000km                    6   benzin   \n",
       "2    manuell      102    golf   70,000km                    7   benzin   \n",
       "3  automatik       71  fortwo   70,000km                    6   benzin   \n",
       "4    manuell        0   focus  150,000km                    7   benzin   \n",
       "\n",
       "        brand notRepairedDamage          dateCreated  nrOfPictures  \\\n",
       "0     peugeot              nein  2016-03-26 00:00:00             0   \n",
       "1         bmw              nein  2016-04-04 00:00:00             0   \n",
       "2  volkswagen              nein  2016-03-26 00:00:00             0   \n",
       "3       smart              nein  2016-03-12 00:00:00             0   \n",
       "4        ford              nein  2016-04-01 00:00:00             0   \n",
       "\n",
       "   postalCode             lastSeen  \n",
       "0       79588  2016-04-06 06:45:54  \n",
       "1       71034  2016-04-06 14:45:08  \n",
       "2       35394  2016-04-06 20:15:37  \n",
       "3       33729  2016-03-15 03:16:28  \n",
       "4       39218  2016-04-01 14:38:50  "
      ]
     },
     "execution_count": 2,
     "metadata": {},
     "output_type": "execute_result"
    }
   ],
   "source": [
    "df= pd.read_csv('autos.csv', encoding='latin-1')\n",
    "df.head()"
   ]
  },
  {
   "cell_type": "markdown",
   "id": "d01b9cf2",
   "metadata": {},
   "source": [
    "### 1. Preprocessing data \n",
    "#### 1.1 Data Translation \n",
    "The dataset we'll be working with is in German, and we'll need to convert the columns and values to English, which appears to be possible with Google Translate. Our approach would be so straightforward that it could be expressed in the following steps:\n",
    "\n",
    "<ol>\n",
    "    <li> Looking at the unique values of a column, identify its English translation </li>\n",
    "    <li> Substitute German text with English text </li>\n",
    "</ol>\n",
    "\n",
    "That is how we interpret our *categorical columns*."
   ]
  },
  {
   "cell_type": "code",
   "execution_count": 3,
   "id": "ac09715b",
   "metadata": {},
   "outputs": [
    {
     "name": "stdout",
     "output_type": "stream",
     "text": [
      "['Angebot' 'Gesuch']\n",
      "['offer' 'request']\n",
      "['bus' 'limousine' 'kleinwagen' 'kombi' nan 'coupe' 'suv' 'cabrio'\n",
      " 'andere']\n",
      "['manuell' 'automatik' nan]\n",
      "['lpg' 'benzin' 'diesel' nan 'cng' 'hybrid' 'elektro' 'andere']\n",
      "['privat' 'gewerblich']\n",
      "['nein' nan 'ja']\n",
      "['peugeot' 'bmw' 'volkswagen' 'smart' 'ford' 'chrysler' 'seat' 'renault'\n",
      " 'mercedes_benz' 'audi' 'sonstige_autos' 'opel' 'mazda' 'porsche' 'mini'\n",
      " 'toyota' 'dacia' 'nissan' 'jeep' 'saab' 'volvo' 'mitsubishi' 'jaguar'\n",
      " 'fiat' 'skoda' 'subaru' 'kia' 'citroen' 'chevrolet' 'hyundai' 'honda'\n",
      " 'daewoo' 'suzuki' 'trabant' 'land_rover' 'alfa_romeo' 'lada' 'rover'\n",
      " 'daihatsu' 'lancia']\n",
      "['andere' '7er' 'golf' 'fortwo' 'focus' 'voyager' 'arosa' 'megane' nan\n",
      " 'a3' 'clio' 'vectra' 'scirocco' '3er' 'a4' '911' 'cooper' '5er' 'polo'\n",
      " 'e_klasse' '2_reihe' 'c_klasse' 'corsa' 'mondeo' 'altea' 'a1' 'twingo'\n",
      " 'a_klasse' 'cl' '3_reihe' 's_klasse' 'sandero' 'passat' 'primera'\n",
      " 'fiesta' 'wrangler' 'clubman' 'a6' 'transporter' 'astra' 'v40' 'ibiza'\n",
      " 'micra' '1er' 'yaris' 'colt' '6_reihe' '5_reihe' 'corolla' 'ka' 'tigra'\n",
      " 'punto' 'vito' 'cordoba' 'galaxy' '100' 'sharan' 'octavia' 'm_klasse'\n",
      " 'lupo' 'superb' 'meriva' 'c_max' 'laguna' 'touran' '1_reihe' 'm_reihe'\n",
      " 'touareg' 'seicento' 'avensis' 'vivaro' 'x_reihe' 'ducato' 'carnival'\n",
      " 'boxster' 'signum' 'zafira' 'rav' 'a5' 'beetle' 'c_reihe' 'phaeton'\n",
      " 'i_reihe' 'sl' 'insignia' 'up' 'civic' '80' 'mx_reihe' 'omega' 'sorento'\n",
      " 'z_reihe' 'berlingo' 'clk' 's_max' 'kalos' 'cx_reihe' 'grand' 'swift'\n",
      " 'tiguan' 'sprinter' 'mii' 'viano' 'kaefer' 'almera' 'picanto' 'espace'\n",
      " 'scenic' 'one' 'bora' 'fox' 'leon' 'transit' 'tucson' 'tt' 'qashqai'\n",
      " 'mustang' 'jazz' 'nubira' 'v70' 'duster' 'stilo' 'justy' 'kangoo' 'fabia'\n",
      " 'matiz' 'freelander' 'lancer' 'forester' 's_type' 'bravo' '500' '156'\n",
      " 'cr_reihe' 'toledo' 'kalina' 'panda' 'a8' 'ceed' 'caddy' 'aygo' 'c2'\n",
      " 'citigo' 'exeo' 'c1' 'doblo' 'impreza' '147' 'agila' 'escort' '145' 'c3'\n",
      " 'roomster' 'auris' '601' 'eos' 'aveo' 'slk' 'terios' 'fusion' 'c4' 'glk'\n",
      " 'materia' 'v50' 'combo' 'yeti' '900' '850' 'outlander' 'rio' 'jimny'\n",
      " 'forfour' 'a2' 'spider' 'kadett' 'b_klasse' 'carisma' 'cayenne' 'r19'\n",
      " 'cc' 'note' 'logan' 'xc_reihe' 'verso' 'v_klasse' 'jetta' 'c5' 'q5'\n",
      " 'getz' 'navara' 'x_type' 's60' '4_reihe' 'lybra' 'cherokee' 'q3' 'q7'\n",
      " 'roadster' 'captiva' 'cuore' '90' 'ptcruiser' 'kuga' 'x_trail' 'ypsilon'\n",
      " 'pajero' 'delta' 'rx_reihe' 'modus' 'sportage' 'calibra' 'sirion' '6er'\n",
      " 'gl' 'amarok' 'santa' '300c' 'antara' 'accord' 'crossfire' '159' 'niva'\n",
      " 'galant' 'legacy' 'defender' 'range_rover' 'juke' 'spark' 'lanos' 'v60'\n",
      " 'alhambra' 'discovery' 'range_rover_sport' 'range_rover_evoque' 'move'\n",
      " 'croma' 'g_klasse' 'lodgy' 'rangerover' '9000' 'samara' 'kappa' 'charade'\n",
      " 'i3' '200' 'b_max']\n"
     ]
    }
   ],
   "source": [
    "# OfferType \n",
    "print(df.offerType.unique())\n",
    "df.offerType.replace({'Angebot': 'offer', 'Gesuch': 'request'}, inplace= True)\n",
    "print(df.offerType.unique())\n",
    "\n",
    "# vehicleType\n",
    "print(df.vehicleType.unique())\n",
    "df.vehicleType.replace({'kleinwagen': 'small car', 'kombi': 'estate',\n",
    "                        'cabrio': 'convertible','andere': 'other' }, inplace= True)\n",
    "\n",
    "# gearbox\n",
    "print(df.gearbox.unique())\n",
    "df.gearbox.replace({'manuell': 'manual', 'automatik': 'automatic'}, inplace= True)\n",
    "\n",
    "# fuel type\n",
    "print(df.fuelType.unique())\n",
    "df.fuelType.replace({'benzin': 'petrol', 'elektro': 'electric', 'andere': 'other'}, inplace= True)\n",
    "\n",
    "# Seller\n",
    "print(df.seller.unique())\n",
    "df.seller.replace({'privat': 'private', 'gewerblich': 'commercial'}, inplace= True)\n",
    "\n",
    "# notRepairedDamage\n",
    "print(df.notRepairedDamage.unique())\n",
    "df.notRepairedDamage.replace({'nein':'no', 'ja': 'yes'}, inplace= True)\n",
    "\n",
    "# brand\n",
    "print(df.brand.unique())\n",
    "df.brand.replace({'sonstige_autos': 'other'}, inplace= True) \n",
    "\n",
    "# Car model \n",
    "print(df.model.unique())\n",
    "df.model.replace({'andere': 'other'}, inplace= True)"
   ]
  },
  {
   "cell_type": "markdown",
   "id": "b1da1e58",
   "metadata": {},
   "source": [
    "#### 1.2 Data Cleaning \n",
    "At this step, we will split columns and maintain only the useful parts, drop some columns, and change the data type for others."
   ]
  },
  {
   "cell_type": "code",
   "execution_count": 4,
   "id": "a93b758e",
   "metadata": {},
   "outputs": [
    {
     "name": "stderr",
     "output_type": "stream",
     "text": [
      "C:\\Users\\pc\\AppData\\Local\\Temp\\ipykernel_14860\\1787847211.py:2: FutureWarning: The default value of regex will change from True to False in a future version.\n",
      "  df.price = df.price.str.replace('[\\$,]', '').astype(float)\n",
      "C:\\Users\\pc\\AppData\\Local\\Temp\\ipykernel_14860\\1787847211.py:5: FutureWarning: The default value of regex will change from True to False in a future version.\n",
      "  df.odometer = df.odometer.str.replace('km|,', '').astype(int)\n"
     ]
    }
   ],
   "source": [
    "# Price\n",
    "df.price = df.price.str.replace('[\\$,]', '').astype(float)\n",
    "\n",
    "# Mileage or odometer\n",
    "df.odometer = df.odometer.str.replace('km|,', '').astype(int)\n",
    "\n",
    "# dateCrawled\n",
    "df.dateCrawled= pd.to_datetime(df.dateCrawled)"
   ]
  },
  {
   "cell_type": "code",
   "execution_count": 5,
   "id": "1b9cd844",
   "metadata": {},
   "outputs": [
    {
     "data": {
      "text/plain": [
       "0         5000.0\n",
       "1         8500.0\n",
       "2         8990.0\n",
       "3         4350.0\n",
       "4         1350.0\n",
       "          ...   \n",
       "49995    24900.0\n",
       "49996     1980.0\n",
       "49997    13200.0\n",
       "49998    22900.0\n",
       "49999     1250.0\n",
       "Name: price, Length: 50000, dtype: float64"
      ]
     },
     "execution_count": 5,
     "metadata": {},
     "output_type": "execute_result"
    }
   ],
   "source": [
    "df.price"
   ]
  },
  {
   "cell_type": "code",
   "execution_count": 6,
   "id": "c39dd76a",
   "metadata": {},
   "outputs": [
    {
     "data": {
      "text/html": [
       "<div>\n",
       "<style scoped>\n",
       "    .dataframe tbody tr th:only-of-type {\n",
       "        vertical-align: middle;\n",
       "    }\n",
       "\n",
       "    .dataframe tbody tr th {\n",
       "        vertical-align: top;\n",
       "    }\n",
       "\n",
       "    .dataframe thead th {\n",
       "        text-align: right;\n",
       "    }\n",
       "</style>\n",
       "<table border=\"1\" class=\"dataframe\">\n",
       "  <thead>\n",
       "    <tr style=\"text-align: right;\">\n",
       "      <th></th>\n",
       "      <th>dateCrawled</th>\n",
       "      <th>name</th>\n",
       "      <th>seller</th>\n",
       "      <th>offerType</th>\n",
       "      <th>price</th>\n",
       "      <th>abtest</th>\n",
       "      <th>vehicleType</th>\n",
       "      <th>yearOfRegistration</th>\n",
       "      <th>gearbox</th>\n",
       "      <th>powerPS</th>\n",
       "      <th>model</th>\n",
       "      <th>odometer</th>\n",
       "      <th>monthOfRegistration</th>\n",
       "      <th>fuelType</th>\n",
       "      <th>brand</th>\n",
       "      <th>notRepairedDamage</th>\n",
       "      <th>dateCreated</th>\n",
       "      <th>nrOfPictures</th>\n",
       "      <th>postalCode</th>\n",
       "      <th>lastSeen</th>\n",
       "    </tr>\n",
       "  </thead>\n",
       "  <tbody>\n",
       "    <tr>\n",
       "      <th>0</th>\n",
       "      <td>2016-03-26 17:47:46</td>\n",
       "      <td>Peugeot_807_160_NAVTECH_ON_BOARD</td>\n",
       "      <td>private</td>\n",
       "      <td>offer</td>\n",
       "      <td>5000.0</td>\n",
       "      <td>control</td>\n",
       "      <td>bus</td>\n",
       "      <td>2004</td>\n",
       "      <td>manual</td>\n",
       "      <td>158</td>\n",
       "      <td>other</td>\n",
       "      <td>150000</td>\n",
       "      <td>3</td>\n",
       "      <td>lpg</td>\n",
       "      <td>peugeot</td>\n",
       "      <td>no</td>\n",
       "      <td>2016-03-26 00:00:00</td>\n",
       "      <td>0</td>\n",
       "      <td>79588</td>\n",
       "      <td>2016-04-06 06:45:54</td>\n",
       "    </tr>\n",
       "    <tr>\n",
       "      <th>1</th>\n",
       "      <td>2016-04-04 13:38:56</td>\n",
       "      <td>BMW_740i_4_4_Liter_HAMANN_UMBAU_Mega_Optik</td>\n",
       "      <td>private</td>\n",
       "      <td>offer</td>\n",
       "      <td>8500.0</td>\n",
       "      <td>control</td>\n",
       "      <td>limousine</td>\n",
       "      <td>1997</td>\n",
       "      <td>automatic</td>\n",
       "      <td>286</td>\n",
       "      <td>7er</td>\n",
       "      <td>150000</td>\n",
       "      <td>6</td>\n",
       "      <td>petrol</td>\n",
       "      <td>bmw</td>\n",
       "      <td>no</td>\n",
       "      <td>2016-04-04 00:00:00</td>\n",
       "      <td>0</td>\n",
       "      <td>71034</td>\n",
       "      <td>2016-04-06 14:45:08</td>\n",
       "    </tr>\n",
       "    <tr>\n",
       "      <th>2</th>\n",
       "      <td>2016-03-26 18:57:24</td>\n",
       "      <td>Volkswagen_Golf_1.6_United</td>\n",
       "      <td>private</td>\n",
       "      <td>offer</td>\n",
       "      <td>8990.0</td>\n",
       "      <td>test</td>\n",
       "      <td>limousine</td>\n",
       "      <td>2009</td>\n",
       "      <td>manual</td>\n",
       "      <td>102</td>\n",
       "      <td>golf</td>\n",
       "      <td>70000</td>\n",
       "      <td>7</td>\n",
       "      <td>petrol</td>\n",
       "      <td>volkswagen</td>\n",
       "      <td>no</td>\n",
       "      <td>2016-03-26 00:00:00</td>\n",
       "      <td>0</td>\n",
       "      <td>35394</td>\n",
       "      <td>2016-04-06 20:15:37</td>\n",
       "    </tr>\n",
       "    <tr>\n",
       "      <th>3</th>\n",
       "      <td>2016-03-12 16:58:10</td>\n",
       "      <td>Smart_smart_fortwo_coupe_softouch/F1/Klima/Pan...</td>\n",
       "      <td>private</td>\n",
       "      <td>offer</td>\n",
       "      <td>4350.0</td>\n",
       "      <td>control</td>\n",
       "      <td>small car</td>\n",
       "      <td>2007</td>\n",
       "      <td>automatic</td>\n",
       "      <td>71</td>\n",
       "      <td>fortwo</td>\n",
       "      <td>70000</td>\n",
       "      <td>6</td>\n",
       "      <td>petrol</td>\n",
       "      <td>smart</td>\n",
       "      <td>no</td>\n",
       "      <td>2016-03-12 00:00:00</td>\n",
       "      <td>0</td>\n",
       "      <td>33729</td>\n",
       "      <td>2016-03-15 03:16:28</td>\n",
       "    </tr>\n",
       "    <tr>\n",
       "      <th>4</th>\n",
       "      <td>2016-04-01 14:38:50</td>\n",
       "      <td>Ford_Focus_1_6_Benzin_TÜV_neu_ist_sehr_gepfleg...</td>\n",
       "      <td>private</td>\n",
       "      <td>offer</td>\n",
       "      <td>1350.0</td>\n",
       "      <td>test</td>\n",
       "      <td>estate</td>\n",
       "      <td>2003</td>\n",
       "      <td>manual</td>\n",
       "      <td>0</td>\n",
       "      <td>focus</td>\n",
       "      <td>150000</td>\n",
       "      <td>7</td>\n",
       "      <td>petrol</td>\n",
       "      <td>ford</td>\n",
       "      <td>no</td>\n",
       "      <td>2016-04-01 00:00:00</td>\n",
       "      <td>0</td>\n",
       "      <td>39218</td>\n",
       "      <td>2016-04-01 14:38:50</td>\n",
       "    </tr>\n",
       "  </tbody>\n",
       "</table>\n",
       "</div>"
      ],
      "text/plain": [
       "          dateCrawled                                               name  \\\n",
       "0 2016-03-26 17:47:46                   Peugeot_807_160_NAVTECH_ON_BOARD   \n",
       "1 2016-04-04 13:38:56         BMW_740i_4_4_Liter_HAMANN_UMBAU_Mega_Optik   \n",
       "2 2016-03-26 18:57:24                         Volkswagen_Golf_1.6_United   \n",
       "3 2016-03-12 16:58:10  Smart_smart_fortwo_coupe_softouch/F1/Klima/Pan...   \n",
       "4 2016-04-01 14:38:50  Ford_Focus_1_6_Benzin_TÜV_neu_ist_sehr_gepfleg...   \n",
       "\n",
       "    seller offerType   price   abtest vehicleType  yearOfRegistration  \\\n",
       "0  private     offer  5000.0  control         bus                2004   \n",
       "1  private     offer  8500.0  control   limousine                1997   \n",
       "2  private     offer  8990.0     test   limousine                2009   \n",
       "3  private     offer  4350.0  control   small car                2007   \n",
       "4  private     offer  1350.0     test      estate                2003   \n",
       "\n",
       "     gearbox  powerPS   model  odometer  monthOfRegistration fuelType  \\\n",
       "0     manual      158   other    150000                    3      lpg   \n",
       "1  automatic      286     7er    150000                    6   petrol   \n",
       "2     manual      102    golf     70000                    7   petrol   \n",
       "3  automatic       71  fortwo     70000                    6   petrol   \n",
       "4     manual        0   focus    150000                    7   petrol   \n",
       "\n",
       "        brand notRepairedDamage          dateCreated  nrOfPictures  \\\n",
       "0     peugeot                no  2016-03-26 00:00:00             0   \n",
       "1         bmw                no  2016-04-04 00:00:00             0   \n",
       "2  volkswagen                no  2016-03-26 00:00:00             0   \n",
       "3       smart                no  2016-03-12 00:00:00             0   \n",
       "4        ford                no  2016-04-01 00:00:00             0   \n",
       "\n",
       "   postalCode             lastSeen  \n",
       "0       79588  2016-04-06 06:45:54  \n",
       "1       71034  2016-04-06 14:45:08  \n",
       "2       35394  2016-04-06 20:15:37  \n",
       "3       33729  2016-03-15 03:16:28  \n",
       "4       39218  2016-04-01 14:38:50  "
      ]
     },
     "execution_count": 6,
     "metadata": {},
     "output_type": "execute_result"
    }
   ],
   "source": [
    "df.head()"
   ]
  },
  {
   "cell_type": "markdown",
   "id": "a6c42bc2",
   "metadata": {},
   "source": [
    "### 2. Exploring individual variables\n",
    "### 2.1 Price"
   ]
  },
  {
   "cell_type": "code",
   "execution_count": 7,
   "id": "72e99615",
   "metadata": {},
   "outputs": [
    {
     "data": {
      "text/plain": [
       "count    5.000000e+04\n",
       "mean     9.840044e+03\n",
       "std      4.811044e+05\n",
       "min      0.000000e+00\n",
       "25%      1.100000e+03\n",
       "50%      2.950000e+03\n",
       "75%      7.200000e+03\n",
       "max      1.000000e+08\n",
       "Name: price, dtype: float64"
      ]
     },
     "execution_count": 7,
     "metadata": {},
     "output_type": "execute_result"
    }
   ],
   "source": [
    "df.price.describe()"
   ]
  },
  {
   "cell_type": "markdown",
   "id": "90565b2e",
   "metadata": {},
   "source": [
    "When we attempt to evaluate the price column summary above, we must remember that the presence of outliers in the column may alter the summary statistics, and additional cleaning may be required. According to the summary, car prices have risen to more than 2.10[9]! Which is simply incorrect. That is why when we look into vehicles costing more over €100,000, we find patterns cuch '11111' or '999999'. That's why in ou cleannig approach we will keep cars with priceover €150,000 only if they're convertibles or SUV while dropping any car with a price over €200,000"
   ]
  },
  {
   "cell_type": "code",
   "execution_count": 8,
   "id": "e2fc65d6",
   "metadata": {
    "scrolled": false
   },
   "outputs": [
    {
     "data": {
      "text/html": [
       "<div>\n",
       "<style scoped>\n",
       "    .dataframe tbody tr th:only-of-type {\n",
       "        vertical-align: middle;\n",
       "    }\n",
       "\n",
       "    .dataframe tbody tr th {\n",
       "        vertical-align: top;\n",
       "    }\n",
       "\n",
       "    .dataframe thead th {\n",
       "        text-align: right;\n",
       "    }\n",
       "</style>\n",
       "<table border=\"1\" class=\"dataframe\">\n",
       "  <thead>\n",
       "    <tr style=\"text-align: right;\">\n",
       "      <th></th>\n",
       "      <th>dateCrawled</th>\n",
       "      <th>name</th>\n",
       "      <th>seller</th>\n",
       "      <th>offerType</th>\n",
       "      <th>price</th>\n",
       "      <th>abtest</th>\n",
       "      <th>vehicleType</th>\n",
       "      <th>yearOfRegistration</th>\n",
       "      <th>gearbox</th>\n",
       "      <th>powerPS</th>\n",
       "      <th>model</th>\n",
       "      <th>odometer</th>\n",
       "      <th>monthOfRegistration</th>\n",
       "      <th>fuelType</th>\n",
       "      <th>brand</th>\n",
       "      <th>notRepairedDamage</th>\n",
       "      <th>dateCreated</th>\n",
       "      <th>nrOfPictures</th>\n",
       "      <th>postalCode</th>\n",
       "      <th>lastSeen</th>\n",
       "    </tr>\n",
       "  </thead>\n",
       "  <tbody>\n",
       "    <tr>\n",
       "      <th>514</th>\n",
       "      <td>2016-03-17 09:53:08</td>\n",
       "      <td>Ford_Focus_Turnier_1.6_16V_Style</td>\n",
       "      <td>private</td>\n",
       "      <td>offer</td>\n",
       "      <td>999999.0</td>\n",
       "      <td>test</td>\n",
       "      <td>estate</td>\n",
       "      <td>2009</td>\n",
       "      <td>manual</td>\n",
       "      <td>101</td>\n",
       "      <td>focus</td>\n",
       "      <td>125000</td>\n",
       "      <td>4</td>\n",
       "      <td>petrol</td>\n",
       "      <td>ford</td>\n",
       "      <td>no</td>\n",
       "      <td>2016-03-17 00:00:00</td>\n",
       "      <td>0</td>\n",
       "      <td>12205</td>\n",
       "      <td>2016-04-06 07:17:35</td>\n",
       "    </tr>\n",
       "    <tr>\n",
       "      <th>1878</th>\n",
       "      <td>2016-03-12 16:58:37</td>\n",
       "      <td>Porsche_911_Turbo</td>\n",
       "      <td>private</td>\n",
       "      <td>offer</td>\n",
       "      <td>129000.0</td>\n",
       "      <td>control</td>\n",
       "      <td>coupe</td>\n",
       "      <td>1995</td>\n",
       "      <td>manual</td>\n",
       "      <td>408</td>\n",
       "      <td>911</td>\n",
       "      <td>125000</td>\n",
       "      <td>9</td>\n",
       "      <td>petrol</td>\n",
       "      <td>porsche</td>\n",
       "      <td>no</td>\n",
       "      <td>2016-03-12 00:00:00</td>\n",
       "      <td>0</td>\n",
       "      <td>70180</td>\n",
       "      <td>2016-04-05 04:49:19</td>\n",
       "    </tr>\n",
       "    <tr>\n",
       "      <th>2454</th>\n",
       "      <td>2016-03-21 22:51:29</td>\n",
       "      <td>Porsche_911_GT3</td>\n",
       "      <td>private</td>\n",
       "      <td>offer</td>\n",
       "      <td>137999.0</td>\n",
       "      <td>control</td>\n",
       "      <td>coupe</td>\n",
       "      <td>2010</td>\n",
       "      <td>manual</td>\n",
       "      <td>435</td>\n",
       "      <td>911</td>\n",
       "      <td>20000</td>\n",
       "      <td>7</td>\n",
       "      <td>petrol</td>\n",
       "      <td>porsche</td>\n",
       "      <td>no</td>\n",
       "      <td>2016-03-21 00:00:00</td>\n",
       "      <td>0</td>\n",
       "      <td>80636</td>\n",
       "      <td>2016-04-07 05:45:39</td>\n",
       "    </tr>\n",
       "    <tr>\n",
       "      <th>2751</th>\n",
       "      <td>2016-03-15 10:52:35</td>\n",
       "      <td>Porsche_911___993_4S</td>\n",
       "      <td>private</td>\n",
       "      <td>offer</td>\n",
       "      <td>120000.0</td>\n",
       "      <td>control</td>\n",
       "      <td>coupe</td>\n",
       "      <td>1998</td>\n",
       "      <td>manual</td>\n",
       "      <td>286</td>\n",
       "      <td>911</td>\n",
       "      <td>125000</td>\n",
       "      <td>3</td>\n",
       "      <td>petrol</td>\n",
       "      <td>porsche</td>\n",
       "      <td>no</td>\n",
       "      <td>2016-03-15 00:00:00</td>\n",
       "      <td>0</td>\n",
       "      <td>25488</td>\n",
       "      <td>2016-04-05 19:47:31</td>\n",
       "    </tr>\n",
       "    <tr>\n",
       "      <th>2897</th>\n",
       "      <td>2016-03-12 21:50:57</td>\n",
       "      <td>Escort_MK_1_Hundeknochen_zum_umbauen_auf_RS_2000</td>\n",
       "      <td>private</td>\n",
       "      <td>offer</td>\n",
       "      <td>11111111.0</td>\n",
       "      <td>test</td>\n",
       "      <td>limousine</td>\n",
       "      <td>1973</td>\n",
       "      <td>manual</td>\n",
       "      <td>48</td>\n",
       "      <td>escort</td>\n",
       "      <td>50000</td>\n",
       "      <td>3</td>\n",
       "      <td>petrol</td>\n",
       "      <td>ford</td>\n",
       "      <td>no</td>\n",
       "      <td>2016-03-12 00:00:00</td>\n",
       "      <td>0</td>\n",
       "      <td>94469</td>\n",
       "      <td>2016-03-12 22:45:27</td>\n",
       "    </tr>\n",
       "  </tbody>\n",
       "</table>\n",
       "</div>"
      ],
      "text/plain": [
       "             dateCrawled                                              name  \\\n",
       "514  2016-03-17 09:53:08                  Ford_Focus_Turnier_1.6_16V_Style   \n",
       "1878 2016-03-12 16:58:37                                 Porsche_911_Turbo   \n",
       "2454 2016-03-21 22:51:29                                   Porsche_911_GT3   \n",
       "2751 2016-03-15 10:52:35                              Porsche_911___993_4S   \n",
       "2897 2016-03-12 21:50:57  Escort_MK_1_Hundeknochen_zum_umbauen_auf_RS_2000   \n",
       "\n",
       "       seller offerType       price   abtest vehicleType  yearOfRegistration  \\\n",
       "514   private     offer    999999.0     test      estate                2009   \n",
       "1878  private     offer    129000.0  control       coupe                1995   \n",
       "2454  private     offer    137999.0  control       coupe                2010   \n",
       "2751  private     offer    120000.0  control       coupe                1998   \n",
       "2897  private     offer  11111111.0     test   limousine                1973   \n",
       "\n",
       "     gearbox  powerPS   model  odometer  monthOfRegistration fuelType  \\\n",
       "514   manual      101   focus    125000                    4   petrol   \n",
       "1878  manual      408     911    125000                    9   petrol   \n",
       "2454  manual      435     911     20000                    7   petrol   \n",
       "2751  manual      286     911    125000                    3   petrol   \n",
       "2897  manual       48  escort     50000                    3   petrol   \n",
       "\n",
       "        brand notRepairedDamage          dateCreated  nrOfPictures  \\\n",
       "514      ford                no  2016-03-17 00:00:00             0   \n",
       "1878  porsche                no  2016-03-12 00:00:00             0   \n",
       "2454  porsche                no  2016-03-21 00:00:00             0   \n",
       "2751  porsche                no  2016-03-15 00:00:00             0   \n",
       "2897     ford                no  2016-03-12 00:00:00             0   \n",
       "\n",
       "      postalCode             lastSeen  \n",
       "514        12205  2016-04-06 07:17:35  \n",
       "1878       70180  2016-04-05 04:49:19  \n",
       "2454       80636  2016-04-07 05:45:39  \n",
       "2751       25488  2016-04-05 19:47:31  \n",
       "2897       94469  2016-03-12 22:45:27  "
      ]
     },
     "execution_count": 8,
     "metadata": {},
     "output_type": "execute_result"
    }
   ],
   "source": [
    "# false patters \n",
    "df[df['price']>= 100000].head()"
   ]
  },
  {
   "cell_type": "code",
   "execution_count": 9,
   "id": "4c152ef9",
   "metadata": {},
   "outputs": [
    {
     "data": {
      "text/plain": [
       "['porsche',\n",
       " 'land_rover',\n",
       " 'renault',\n",
       " 'other',\n",
       " 'audi',\n",
       " 'mercedes_benz',\n",
       " 'bmw',\n",
       " 'ford']"
      ]
     },
     "execution_count": 9,
     "metadata": {},
     "output_type": "execute_result"
    }
   ],
   "source": [
    "# Resonable prices filtering \n",
    "df = df[(df['price'] <= 200000) & \n",
    "            ~((df['price'] > 100000) & \n",
    "              df['vehicleType'].isin(['limousine', 'small car', 'estate', 'bus', 'other']) )]\n",
    "\n",
    "# Looking at cars with a price above €75000\n",
    "df[df.price >= 75000].brand.unique().tolist()"
   ]
  },
  {
   "cell_type": "markdown",
   "id": "95b3b2fb",
   "metadata": {},
   "source": [
    "In an interpretation of the results we've got when filtering for cars with a price above €75K,  brands like (Ford, Renault). Let's take a clos look on this cars"
   ]
  },
  {
   "cell_type": "code",
   "execution_count": 10,
   "id": "585ba5b7",
   "metadata": {},
   "outputs": [
    {
     "data": {
      "text/plain": [
       "2683       other\n",
       "49815    mustang\n",
       "Name: model, dtype: object"
      ]
     },
     "execution_count": 10,
     "metadata": {},
     "output_type": "execute_result"
    }
   ],
   "source": [
    "# Examine non premium cars with a price over €75000\n",
    "df[ (df['price'] > 75000) & (df['brand'].isin(['ford', 'renault']))].model"
   ]
  },
  {
   "cell_type": "markdown",
   "id": "e129fe3a",
   "metadata": {},
   "source": [
    "There's nothing to worry about because only two automobiles emerge, both of which are either premium or offered by collectors. Nonetheless, we will set a minimum price for an automobile that is more than €100."
   ]
  },
  {
   "cell_type": "code",
   "execution_count": 11,
   "id": "2f441dc3",
   "metadata": {},
   "outputs": [],
   "source": [
    "df= df.loc[df.price >= 100]"
   ]
  },
  {
   "cell_type": "code",
   "execution_count": 12,
   "id": "6e82ce71",
   "metadata": {},
   "outputs": [
    {
     "data": {
      "image/png": "[encoded data removed]",
      "text/plain": [
       "<Figure size 720x576 with 1 Axes>"
      ]
     },
     "metadata": {},
     "output_type": "display_data"
    }
   ],
   "source": [
    "log_price= np.log10(df.price)\n",
    "plt.hist(log_price, bins= 50, color=blue )\n",
    "# median and mean vertical bars \n",
    "plt.axvline(log_price.mean(), c= 'red')\n",
    "plt.axvline(log_price.median(), c= 'green')\n",
    "plt.show()"
   ]
  },
  {
   "cell_type": "markdown",
   "id": "4061bf6c",
   "metadata": {},
   "source": [
    "The red bar represents the mean, while the blue bar represents the median. The median and mean have the same value.\n",
    "\n",
    "We have a nearly normal distribution after the scale transformation."
   ]
  },
  {
   "cell_type": "markdown",
   "id": "7b44f0c6",
   "metadata": {},
   "source": [
    "### 2.2 Vehicle type "
   ]
  },
  {
   "cell_type": "code",
   "execution_count": 13,
   "id": "c8a28b90",
   "metadata": {},
   "outputs": [
    {
     "data": {
      "text/plain": [
       "<BarContainer object of 8 artists>"
      ]
     },
     "execution_count": 13,
     "metadata": {},
     "output_type": "execute_result"
    },
    {
     "data": {
      "image/png": "[encoded data removed]",
      "text/plain": [
       "<Figure size 720x576 with 1 Axes>"
      ]
     },
     "metadata": {},
     "output_type": "display_data"
    }
   ],
   "source": [
    "plt.barh(df.vehicleType.value_counts().index, df.vehicleType.value_counts().values, color= blue)"
   ]
  },
  {
   "cell_type": "markdown",
   "id": "8a20db70",
   "metadata": {},
   "source": [
    "This demonstrates how the European market is oriented toward family automobiles, with a high presence of small cars.\n",
    "### 2.3 Year of Registration\n",
    "Looking at the statistical description of the year of registration column, you can see that the minimum year of registration is 1000 and the maximum is 9999, which is obviously incorrect. Hence, to keep it reasonable, maintain only cars registered between 1960 and 2023 (current year), even if the data's highest resonable year of registration when scraped is 2016."
   ]
  },
  {
   "cell_type": "code",
   "execution_count": 14,
   "id": "799a4e86",
   "metadata": {},
   "outputs": [
    {
     "data": {
      "text/plain": [
       "count    48216.000000\n",
       "mean      2004.730504\n",
       "std         87.904525\n",
       "min       1000.000000\n",
       "25%       1999.000000\n",
       "50%       2004.000000\n",
       "75%       2008.000000\n",
       "max       9999.000000\n",
       "Name: yearOfRegistration, dtype: float64"
      ]
     },
     "execution_count": 14,
     "metadata": {},
     "output_type": "execute_result"
    }
   ],
   "source": [
    "df.yearOfRegistration.describe()"
   ]
  },
  {
   "cell_type": "code",
   "execution_count": 15,
   "id": "77359dfd",
   "metadata": {},
   "outputs": [
    {
     "data": {
      "image/png": "[encoded data removed]",
      "text/plain": [
       "<Figure size 720x576 with 1 Axes>"
      ]
     },
     "metadata": {},
     "output_type": "display_data"
    }
   ],
   "source": [
    "# Keep only cars registered between 1960 and 2023\n",
    "df= df.loc[ (df.yearOfRegistration >= 1960) & (df.yearOfRegistration <= 2023)]\n",
    "\n",
    "# Plot \n",
    "plt.hist(df.yearOfRegistration, bins= 100, color=blue)\n",
    "plt.axvline(df.yearOfRegistration.mean(), c= 'red')\n",
    "plt.axvline(df.yearOfRegistration.median(), c= 'green')\n",
    "plt.show()"
   ]
  },
  {
   "cell_type": "markdown",
   "id": "fa11a8b7",
   "metadata": {},
   "source": [
    "Red bar represents mean, blue bar represents median. Note that the mean and the median are identical.\n",
    "\n",
    "The distribution is close to normal, with the following exceptions:\n",
    "\n",
    "- A big left tail \n",
    "- Three peaks: *one in 1999-2000, one in 2005-2006, and one in 2016*.\n",
    "\n",
    "Regarding 2016, it was a year with high car registrations in Germany, according to the German Federal Motor Transport Authority (Kraftfahrt-Bundesamt)\n",
    "\n",
    "\n"
   ]
  },
  {
   "cell_type": "markdown",
   "id": "2cd8fe2b",
   "metadata": {},
   "source": [
    "### 2.4 Month of Registration\n",
    "In terms of nan values, the month of registration is identical to the year of registration, with exactly 0 nan values. However, there is a 4292 listing with 0 as month of regidtration, which I choose to keep it. demonstrating how eBay has made it mandatory for both registration columns to be entered when listing a car but didn't consider that 0 can't be a month of registration."
   ]
  },
  {
   "cell_type": "code",
   "execution_count": 16,
   "id": "34787e82",
   "metadata": {},
   "outputs": [
    {
     "name": "stdout",
     "output_type": "stream",
     "text": [
      "sum of nan values 0\n",
      "0 as a month of registration 4292\n"
     ]
    }
   ],
   "source": [
    "# Sum of NaN values \n",
    "print( 'sum of nan values', df.monthOfRegistration.isna().sum())\n",
    "print('0 as a month of registration', len(df[df.monthOfRegistration==0]))"
   ]
  },
  {
   "cell_type": "code",
   "execution_count": 17,
   "id": "f3f39807",
   "metadata": {},
   "outputs": [
    {
     "data": {
      "text/plain": [
       "count    48155.000000\n",
       "mean         5.804963\n",
       "std          3.676701\n",
       "min          0.000000\n",
       "25%          3.000000\n",
       "50%          6.000000\n",
       "75%          9.000000\n",
       "max         12.000000\n",
       "Name: monthOfRegistration, dtype: float64"
      ]
     },
     "execution_count": 17,
     "metadata": {},
     "output_type": "execute_result"
    }
   ],
   "source": [
    "# Statistical description\n",
    "df.monthOfRegistration.describe()"
   ]
  },
  {
   "cell_type": "code",
   "execution_count": 18,
   "id": "9579f6bd",
   "metadata": {},
   "outputs": [
    {
     "data": {
      "image/png": "[encoded data removed]",
      "text/plain": [
       "<Figure size 720x576 with 1 Axes>"
      ]
     },
     "metadata": {},
     "output_type": "display_data"
    }
   ],
   "source": [
    "# Horizontal bars \n",
    "monthsOfRegisration= df[df.monthOfRegistration!=0].monthOfRegistration\n",
    "plt.barh(monthsOfRegisration.value_counts().index, monthsOfRegisration.value_counts().values, color= blue)\n",
    "plt.yticks(range(0, 13))\n",
    "\n",
    "plt.show()"
   ]
  },
  {
   "cell_type": "markdown",
   "id": "712f2360",
   "metadata": {},
   "source": [
    "The months of March and June are the busiest for automobile registrations. A quick internet search confirmed that this is consistent with the seasonality of car registrations that we see in Germany (incidently, there is a similar effect in France and the UK).\n",
    "\n",
    "### 2.5 Transmission year"
   ]
  },
  {
   "cell_type": "code",
   "execution_count": 19,
   "id": "a7910fb5",
   "metadata": {},
   "outputs": [
    {
     "data": {
      "image/png": "[encoded data removed]",
      "text/plain": [
       "<Figure size 720x576 with 1 Axes>"
      ]
     },
     "metadata": {},
     "output_type": "display_data"
    }
   ],
   "source": [
    "plt.bar(df.gearbox.value_counts().index, df.gearbox.value_counts().values, color= blue)\n",
    "plt.show()"
   ]
  },
  {
   "cell_type": "markdown",
   "id": "577a3266",
   "metadata": {},
   "source": [
    "The plot shows that the European market is primarily a manual transmission market.\n",
    "### 2.6 Engine Power\n",
    "PS, which stands for PferdStarke (literally, 'horse strength' in German), is used to measure engine power, with 1 PS equaling 736 Watts. We can tell from the statistical description that there is some cleaning to be done. We will only keep automobiles with engines rated between 25 and 600 horsepower for the following reasons:\n",
    "- A minimum of 25: There should be a higher score, maybe 70, but when we consider the background, we see that a certain model of automobile (Trabant 601) left over from the East-German Communist era is still in use. since these vehicles have a 25PS.\n",
    "- Power engines in luxury automobiles may range from 250 to 500 PS, with 600 being generous.\n"
   ]
  },
  {
   "cell_type": "code",
   "execution_count": 20,
   "id": "2bbb0fb0",
   "metadata": {},
   "outputs": [
    {
     "data": {
      "text/plain": [
       "count    48155.000000\n",
       "mean       117.652663\n",
       "std        200.991127\n",
       "min          0.000000\n",
       "25%         74.000000\n",
       "50%        107.000000\n",
       "75%        150.000000\n",
       "max      17700.000000\n",
       "Name: powerPS, dtype: float64"
      ]
     },
     "execution_count": 20,
     "metadata": {},
     "output_type": "execute_result"
    }
   ],
   "source": [
    "df.powerPS.describe()"
   ]
  },
  {
   "cell_type": "code",
   "execution_count": 21,
   "id": "c770b697",
   "metadata": {},
   "outputs": [],
   "source": [
    "# Keep cars which power engine ranges between 25 and 600:\n",
    "df= df.loc[ (df.powerPS >= 25) & (df.powerPS <= 600)]"
   ]
  },
  {
   "cell_type": "code",
   "execution_count": 22,
   "id": "ca777f5f",
   "metadata": {},
   "outputs": [
    {
     "data": {
      "image/png": "[encoded data removed]",
      "text/plain": [
       "<Figure size 720x576 with 1 Axes>"
      ]
     },
     "metadata": {},
     "output_type": "display_data"
    }
   ],
   "source": [
    "# plot distrubtion\n",
    "plt.hist(df.powerPS, bins= 50, color=blue)\n",
    "plt.axvline(df.powerPS.mean(), c= 'red')\n",
    "plt.axvline(df.powerPS.median(), c= 'green')\n",
    "plt.show()"
   ]
  },
  {
   "cell_type": "markdown",
   "id": "66102f8d",
   "metadata": {},
   "source": [
    "Red bar indicates mean, blue bar indicates median.\n",
    "\n",
    "The distribution is postively skewed with a long tail (that may contain errors, as we just saw).\n",
    "\n",
    "The range of thes values is generally true in Germany as well as in other markets around the world. Engine displacement values of around 60, 100, 120, and 140 (as shown in the plot) cubic centimeters (cc) have become common \"market standards\" in the automotive industry. \n",
    "### 2.7 Model\n",
    "We have 244 distinct models, however we will only check for the top 15 models currently on the market."
   ]
  },
  {
   "cell_type": "code",
   "execution_count": 23,
   "id": "6b29b64f",
   "metadata": {},
   "outputs": [
    {
     "name": "stdout",
     "output_type": "stream",
     "text": [
      "Number of unique models:  244\n"
     ]
    }
   ],
   "source": [
    "print('Number of unique models: ', len(df.model.unique()))"
   ]
  },
  {
   "cell_type": "code",
   "execution_count": 24,
   "id": "dabebe47",
   "metadata": {},
   "outputs": [
    {
     "data": {
      "image/png": "[encoded data removed]",
      "text/plain": [
       "<Figure size 720x576 with 1 Axes>"
      ]
     },
     "metadata": {},
     "output_type": "display_data"
    }
   ],
   "source": [
    "# Visualize the most present 15 models in the market\n",
    "models_count= df.model.value_counts()[:15]\n",
    "plt.barh(models_count.index, models_count.values, color= blue)\n",
    "plt.show()"
   ]
  },
  {
   "cell_type": "markdown",
   "id": "24bceaf2",
   "metadata": {},
   "source": [
    "The Golf comes in #1, as expected, and the BMW 3 Series comes in second, making it clear that we're looking at the German market. That might also have something to do with the price of these cars (they're cheap), *to study later*. \n",
    "\n",
    "Another intriguing aspect is how 'other' cars (which refers to all other cars that already existed but just not selected by the website from where data was scraped).\n",
    "### 2.8 Brand \n",
    "We have 40 distinct brands in our market, and we will investigate their existence in an approach similar to that of models."
   ]
  },
  {
   "cell_type": "code",
   "execution_count": 25,
   "id": "e1f14d19",
   "metadata": {},
   "outputs": [
    {
     "name": "stdout",
     "output_type": "stream",
     "text": [
      "Number of brands: 40\n"
     ]
    }
   ],
   "source": [
    "print('Number of brands:',len(df.brand.unique()))"
   ]
  },
  {
   "cell_type": "code",
   "execution_count": 26,
   "id": "c997c808",
   "metadata": {},
   "outputs": [
    {
     "data": {
      "image/png": "[encoded data removed]",
      "text/plain": [
       "<Figure size 720x576 with 1 Axes>"
      ]
     },
     "metadata": {},
     "output_type": "display_data"
    }
   ],
   "source": [
    "brands_count= df.brand.value_counts()[:15]\n",
    "plt.barh(brands_count.index, brands_count.values, color= blue)\n",
    "plt.show()"
   ]
  },
  {
   "cell_type": "code",
   "execution_count": null,
   "id": "25d0e71e",
   "metadata": {},
   "outputs": [],
   "source": []
  },
  {
   "cell_type": "markdown",
   "id": "217e22fd",
   "metadata": {},
   "source": [
    "### 2.9 Mileage or *Kilometrage*\n",
    "Or odometer in our dataset."
   ]
  },
  {
   "cell_type": "code",
   "execution_count": 27,
   "id": "61fb71f7",
   "metadata": {},
   "outputs": [
    {
     "data": {
      "text/plain": [
       "count     43239.000000\n",
       "mean     125732.324984\n",
       "std       39147.114227\n",
       "min        5000.000000\n",
       "25%      100000.000000\n",
       "50%      150000.000000\n",
       "75%      150000.000000\n",
       "max      150000.000000\n",
       "Name: odometer, dtype: float64"
      ]
     },
     "execution_count": 27,
     "metadata": {},
     "output_type": "execute_result"
    }
   ],
   "source": [
    "df.odometer.describe()"
   ]
  },
  {
   "cell_type": "code",
   "execution_count": 28,
   "id": "bf5c06ca",
   "metadata": {},
   "outputs": [
    {
     "data": {
      "image/png": "[encoded data removed]",
      "text/plain": [
       "<Figure size 720x576 with 1 Axes>"
      ]
     },
     "metadata": {},
     "output_type": "display_data"
    }
   ],
   "source": [
    "# plot histogram\n",
    "plt.hist(df.odometer, bins= 50, color=blue)\n",
    "plt.axvline(df.odometer.mean(), c= 'red')\n",
    "plt.axvline(df.odometer.median(), c= 'green')\n",
    "plt.show()"
   ]
  },
  {
   "cell_type": "markdown",
   "id": "d86ac0e6",
   "metadata": {},
   "source": [
    "Red bar indicates mean, blue bar indicates median.\n",
    "\n",
    "### 2.10 Fuel type\n"
   ]
  },
  {
   "cell_type": "code",
   "execution_count": 29,
   "id": "90abb9c4",
   "metadata": {},
   "outputs": [
    {
     "data": {
      "image/png": "[encoded data removed]",
      "text/plain": [
       "<Figure size 720x576 with 1 Axes>"
      ]
     },
     "metadata": {},
     "output_type": "display_data"
    }
   ],
   "source": [
    "fuel_type_counts= df.fuelType.value_counts()\n",
    "plt.bar(fuel_type_counts.index, fuel_type_counts.values, color= blue)\n",
    "plt.show()"
   ]
  },
  {
   "cell_type": "markdown",
   "id": "cf351aeb",
   "metadata": {},
   "source": [
    "Petrol is roughly twice as prominent as Diesel.\n",
    "### 2.11 Unrepaired damage\n"
   ]
  },
  {
   "cell_type": "code",
   "execution_count": 30,
   "id": "3af5ad06",
   "metadata": {},
   "outputs": [
    {
     "data": {
      "image/png": "[encoded data removed]",
      "text/plain": [
       "<Figure size 720x576 with 1 Axes>"
      ]
     },
     "metadata": {},
     "output_type": "display_data"
    }
   ],
   "source": [
    "repair_counts= df.notRepairedDamage.value_counts()\n",
    "plt.bar(repair_counts.index, repair_counts.values, color= blue)\n",
    "plt.show()"
   ]
  },
  {
   "cell_type": "markdown",
   "id": "fc3654d6",
   "metadata": {},
   "source": [
    "In terms of my understanding, this column relates to probable unrepaired damage on the car being sold. It's also an excellent sign for individuals who purchase, fix, and resell vehicles. Essentially, the market is theirs."
   ]
  },
  {
   "cell_type": "markdown",
   "id": "e640de48",
   "metadata": {},
   "source": [
    "### 3. Multivariate Analyses\n"
   ]
  }
 ],
 "metadata": {
  "kernelspec": {
   "display_name": "Python 3 (ipykernel)",
   "language": "python",
   "name": "python3"
  },
  "language_info": {
   "codemirror_mode": {
    "name": "ipython",
    "version": 3
   },
   "file_extension": ".py",
   "mimetype": "text/x-python",
   "name": "python",
   "nbconvert_exporter": "python",
   "pygments_lexer": "ipython3",
   "version": "3.9.12"
  }
 },
 "nbformat": 4,
 "nbformat_minor": 5
}
